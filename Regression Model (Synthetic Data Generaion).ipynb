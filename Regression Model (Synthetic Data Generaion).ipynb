{
 "cells": [
  {
   "cell_type": "markdown",
   "id": "09b5a4f9",
   "metadata": {
    "papermill": {
     "duration": 0.004423,
     "end_time": "2025-02-16T14:42:20.661934",
     "exception": false,
     "start_time": "2025-02-16T14:42:20.657511",
     "status": "completed"
    },
    "tags": []
   },
   "source": [
    "# **Libraries**"
   ]
  },
  {
   "cell_type": "code",
   "execution_count": 1,
   "id": "50f3af65",
   "metadata": {
    "execution": {
     "iopub.execute_input": "2025-02-16T14:42:20.670427Z",
     "iopub.status.busy": "2025-02-16T14:42:20.670224Z",
     "iopub.status.idle": "2025-02-16T14:42:25.074219Z",
     "shell.execute_reply": "2025-02-16T14:42:25.073366Z"
    },
    "papermill": {
     "duration": 4.410428,
     "end_time": "2025-02-16T14:42:25.076293",
     "exception": false,
     "start_time": "2025-02-16T14:42:20.665865",
     "status": "completed"
    },
    "scrolled": true,
    "tags": []
   },
   "outputs": [
    {
     "name": "stdout",
     "output_type": "stream",
     "text": [
      "Requirement already satisfied: timm in /usr/local/lib/python3.10/dist-packages (1.0.12)\r\n",
      "Requirement already satisfied: torch in /usr/local/lib/python3.10/dist-packages (from timm) (2.5.1+cu121)\r\n",
      "Requirement already satisfied: torchvision in /usr/local/lib/python3.10/dist-packages (from timm) (0.20.1+cu121)\r\n",
      "Requirement already satisfied: pyyaml in /usr/local/lib/python3.10/dist-packages (from timm) (6.0.2)\r\n",
      "Requirement already satisfied: huggingface_hub in /usr/local/lib/python3.10/dist-packages (from timm) (0.28.1)\r\n",
      "Requirement already satisfied: safetensors in /usr/local/lib/python3.10/dist-packages (from timm) (0.4.5)\r\n",
      "Requirement already satisfied: filelock in /usr/local/lib/python3.10/dist-packages (from huggingface_hub->timm) (3.17.0)\r\n",
      "Requirement already satisfied: fsspec>=2023.5.0 in /usr/local/lib/python3.10/dist-packages (from huggingface_hub->timm) (2024.9.0)\r\n",
      "Requirement already satisfied: packaging>=20.9 in /usr/local/lib/python3.10/dist-packages (from huggingface_hub->timm) (24.2)\r\n",
      "Requirement already satisfied: requests in /usr/local/lib/python3.10/dist-packages (from huggingface_hub->timm) (2.32.3)\r\n",
      "Requirement already satisfied: tqdm>=4.42.1 in /usr/local/lib/python3.10/dist-packages (from huggingface_hub->timm) (4.67.1)\r\n",
      "Requirement already satisfied: typing-extensions>=3.7.4.3 in /usr/local/lib/python3.10/dist-packages (from huggingface_hub->timm) (4.12.2)\r\n",
      "Requirement already satisfied: networkx in /usr/local/lib/python3.10/dist-packages (from torch->timm) (3.4.2)\r\n",
      "Requirement already satisfied: jinja2 in /usr/local/lib/python3.10/dist-packages (from torch->timm) (3.1.4)\r\n",
      "Requirement already satisfied: sympy==1.13.1 in /usr/local/lib/python3.10/dist-packages (from torch->timm) (1.13.1)\r\n",
      "Requirement already satisfied: mpmath<1.4,>=1.1.0 in /usr/local/lib/python3.10/dist-packages (from sympy==1.13.1->torch->timm) (1.3.0)\r\n",
      "Requirement already satisfied: numpy in /usr/local/lib/python3.10/dist-packages (from torchvision->timm) (1.26.4)\r\n",
      "Requirement already satisfied: pillow!=8.3.*,>=5.3.0 in /usr/local/lib/python3.10/dist-packages (from torchvision->timm) (11.0.0)\r\n",
      "Requirement already satisfied: MarkupSafe>=2.0 in /usr/local/lib/python3.10/dist-packages (from jinja2->torch->timm) (3.0.2)\r\n",
      "Requirement already satisfied: mkl_fft in /usr/local/lib/python3.10/dist-packages (from numpy->torchvision->timm) (1.3.8)\r\n",
      "Requirement already satisfied: mkl_random in /usr/local/lib/python3.10/dist-packages (from numpy->torchvision->timm) (1.2.4)\r\n",
      "Requirement already satisfied: mkl_umath in /usr/local/lib/python3.10/dist-packages (from numpy->torchvision->timm) (0.1.1)\r\n",
      "Requirement already satisfied: mkl in /usr/local/lib/python3.10/dist-packages (from numpy->torchvision->timm) (2025.0.1)\r\n",
      "Requirement already satisfied: tbb4py in /usr/local/lib/python3.10/dist-packages (from numpy->torchvision->timm) (2022.0.0)\r\n",
      "Requirement already satisfied: mkl-service in /usr/local/lib/python3.10/dist-packages (from numpy->torchvision->timm) (2.4.1)\r\n",
      "Requirement already satisfied: charset-normalizer<4,>=2 in /usr/local/lib/python3.10/dist-packages (from requests->huggingface_hub->timm) (3.4.1)\r\n",
      "Requirement already satisfied: idna<4,>=2.5 in /usr/local/lib/python3.10/dist-packages (from requests->huggingface_hub->timm) (3.10)\r\n",
      "Requirement already satisfied: urllib3<3,>=1.21.1 in /usr/local/lib/python3.10/dist-packages (from requests->huggingface_hub->timm) (2.3.0)\r\n",
      "Requirement already satisfied: certifi>=2017.4.17 in /usr/local/lib/python3.10/dist-packages (from requests->huggingface_hub->timm) (2025.1.31)\r\n",
      "Requirement already satisfied: intel-openmp>=2024 in /usr/local/lib/python3.10/dist-packages (from mkl->numpy->torchvision->timm) (2024.2.0)\r\n",
      "Requirement already satisfied: tbb==2022.* in /usr/local/lib/python3.10/dist-packages (from mkl->numpy->torchvision->timm) (2022.0.0)\r\n",
      "Requirement already satisfied: tcmlib==1.* in /usr/local/lib/python3.10/dist-packages (from tbb==2022.*->mkl->numpy->torchvision->timm) (1.2.0)\r\n",
      "Requirement already satisfied: intel-cmplr-lib-rt in /usr/local/lib/python3.10/dist-packages (from mkl_umath->numpy->torchvision->timm) (2024.2.0)\r\n",
      "Requirement already satisfied: intel-cmplr-lib-ur==2024.2.0 in /usr/local/lib/python3.10/dist-packages (from intel-openmp>=2024->mkl->numpy->torchvision->timm) (2024.2.0)\r\n"
     ]
    }
   ],
   "source": [
    "!pip install timm"
   ]
  },
  {
   "cell_type": "code",
   "execution_count": 2,
   "id": "ca1825cb",
   "metadata": {
    "execution": {
     "iopub.execute_input": "2025-02-16T14:42:25.085665Z",
     "iopub.status.busy": "2025-02-16T14:42:25.085421Z",
     "iopub.status.idle": "2025-02-16T14:42:28.642159Z",
     "shell.execute_reply": "2025-02-16T14:42:28.640764Z"
    },
    "papermill": {
     "duration": 3.563116,
     "end_time": "2025-02-16T14:42:28.643767",
     "exception": false,
     "start_time": "2025-02-16T14:42:25.080651",
     "status": "completed"
    },
    "tags": []
   },
   "outputs": [
    {
     "name": "stdout",
     "output_type": "stream",
     "text": [
      "Collecting evaluate\r\n",
      "  Downloading evaluate-0.4.3-py3-none-any.whl.metadata (9.2 kB)\r\n",
      "Requirement already satisfied: datasets>=2.0.0 in /usr/local/lib/python3.10/dist-packages (from evaluate) (3.2.0)\r\n",
      "Requirement already satisfied: numpy>=1.17 in /usr/local/lib/python3.10/dist-packages (from evaluate) (1.26.4)\r\n",
      "Requirement already satisfied: dill in /usr/local/lib/python3.10/dist-packages (from evaluate) (0.3.8)\r\n",
      "Requirement already satisfied: pandas in /usr/local/lib/python3.10/dist-packages (from evaluate) (2.2.3)\r\n",
      "Requirement already satisfied: requests>=2.19.0 in /usr/local/lib/python3.10/dist-packages (from evaluate) (2.32.3)\r\n",
      "Requirement already satisfied: tqdm>=4.62.1 in /usr/local/lib/python3.10/dist-packages (from evaluate) (4.67.1)\r\n",
      "Requirement already satisfied: xxhash in /usr/local/lib/python3.10/dist-packages (from evaluate) (3.5.0)\r\n",
      "Requirement already satisfied: multiprocess in /usr/local/lib/python3.10/dist-packages (from evaluate) (0.70.16)\r\n",
      "Requirement already satisfied: fsspec>=2021.05.0 in /usr/local/lib/python3.10/dist-packages (from fsspec[http]>=2021.05.0->evaluate) (2024.9.0)\r\n",
      "Requirement already satisfied: huggingface-hub>=0.7.0 in /usr/local/lib/python3.10/dist-packages (from evaluate) (0.28.1)\r\n",
      "Requirement already satisfied: packaging in /usr/local/lib/python3.10/dist-packages (from evaluate) (24.2)\r\n",
      "Requirement already satisfied: filelock in /usr/local/lib/python3.10/dist-packages (from datasets>=2.0.0->evaluate) (3.17.0)\r\n",
      "Requirement already satisfied: pyarrow>=15.0.0 in /usr/local/lib/python3.10/dist-packages (from datasets>=2.0.0->evaluate) (19.0.0)\r\n",
      "Requirement already satisfied: aiohttp in /usr/local/lib/python3.10/dist-packages (from datasets>=2.0.0->evaluate) (3.11.11)\r\n",
      "Requirement already satisfied: pyyaml>=5.1 in /usr/local/lib/python3.10/dist-packages (from datasets>=2.0.0->evaluate) (6.0.2)\r\n",
      "Requirement already satisfied: typing-extensions>=3.7.4.3 in /usr/local/lib/python3.10/dist-packages (from huggingface-hub>=0.7.0->evaluate) (4.12.2)\r\n",
      "Requirement already satisfied: mkl_fft in /usr/local/lib/python3.10/dist-packages (from numpy>=1.17->evaluate) (1.3.8)\r\n",
      "Requirement already satisfied: mkl_random in /usr/local/lib/python3.10/dist-packages (from numpy>=1.17->evaluate) (1.2.4)\r\n",
      "Requirement already satisfied: mkl_umath in /usr/local/lib/python3.10/dist-packages (from numpy>=1.17->evaluate) (0.1.1)\r\n",
      "Requirement already satisfied: mkl in /usr/local/lib/python3.10/dist-packages (from numpy>=1.17->evaluate) (2025.0.1)\r\n",
      "Requirement already satisfied: tbb4py in /usr/local/lib/python3.10/dist-packages (from numpy>=1.17->evaluate) (2022.0.0)\r\n",
      "Requirement already satisfied: mkl-service in /usr/local/lib/python3.10/dist-packages (from numpy>=1.17->evaluate) (2.4.1)\r\n",
      "Requirement already satisfied: charset-normalizer<4,>=2 in /usr/local/lib/python3.10/dist-packages (from requests>=2.19.0->evaluate) (3.4.1)\r\n",
      "Requirement already satisfied: idna<4,>=2.5 in /usr/local/lib/python3.10/dist-packages (from requests>=2.19.0->evaluate) (3.10)\r\n",
      "Requirement already satisfied: urllib3<3,>=1.21.1 in /usr/local/lib/python3.10/dist-packages (from requests>=2.19.0->evaluate) (2.3.0)\r\n",
      "Requirement already satisfied: certifi>=2017.4.17 in /usr/local/lib/python3.10/dist-packages (from requests>=2.19.0->evaluate) (2025.1.31)\r\n",
      "Requirement already satisfied: python-dateutil>=2.8.2 in /usr/local/lib/python3.10/dist-packages (from pandas->evaluate) (2.9.0.post0)\r\n",
      "Requirement already satisfied: pytz>=2020.1 in /usr/local/lib/python3.10/dist-packages (from pandas->evaluate) (2025.1)\r\n",
      "Requirement already satisfied: tzdata>=2022.7 in /usr/local/lib/python3.10/dist-packages (from pandas->evaluate) (2025.1)\r\n",
      "Requirement already satisfied: aiohappyeyeballs>=2.3.0 in /usr/local/lib/python3.10/dist-packages (from aiohttp->datasets>=2.0.0->evaluate) (2.4.4)\r\n",
      "Requirement already satisfied: aiosignal>=1.1.2 in /usr/local/lib/python3.10/dist-packages (from aiohttp->datasets>=2.0.0->evaluate) (1.3.2)\r\n",
      "Requirement already satisfied: async-timeout<6.0,>=4.0 in /usr/local/lib/python3.10/dist-packages (from aiohttp->datasets>=2.0.0->evaluate) (5.0.1)\r\n",
      "Requirement already satisfied: attrs>=17.3.0 in /usr/local/lib/python3.10/dist-packages (from aiohttp->datasets>=2.0.0->evaluate) (25.1.0)\r\n",
      "Requirement already satisfied: frozenlist>=1.1.1 in /usr/local/lib/python3.10/dist-packages (from aiohttp->datasets>=2.0.0->evaluate) (1.5.0)\r\n",
      "Requirement already satisfied: multidict<7.0,>=4.5 in /usr/local/lib/python3.10/dist-packages (from aiohttp->datasets>=2.0.0->evaluate) (6.1.0)\r\n",
      "Requirement already satisfied: propcache>=0.2.0 in /usr/local/lib/python3.10/dist-packages (from aiohttp->datasets>=2.0.0->evaluate) (0.2.1)\r\n",
      "Requirement already satisfied: yarl<2.0,>=1.17.0 in /usr/local/lib/python3.10/dist-packages (from aiohttp->datasets>=2.0.0->evaluate) (1.18.3)\r\n",
      "Requirement already satisfied: six>=1.5 in /usr/local/lib/python3.10/dist-packages (from python-dateutil>=2.8.2->pandas->evaluate) (1.17.0)\r\n",
      "Requirement already satisfied: intel-openmp>=2024 in /usr/local/lib/python3.10/dist-packages (from mkl->numpy>=1.17->evaluate) (2024.2.0)\r\n",
      "Requirement already satisfied: tbb==2022.* in /usr/local/lib/python3.10/dist-packages (from mkl->numpy>=1.17->evaluate) (2022.0.0)\r\n",
      "Requirement already satisfied: tcmlib==1.* in /usr/local/lib/python3.10/dist-packages (from tbb==2022.*->mkl->numpy>=1.17->evaluate) (1.2.0)\r\n",
      "Requirement already satisfied: intel-cmplr-lib-rt in /usr/local/lib/python3.10/dist-packages (from mkl_umath->numpy>=1.17->evaluate) (2024.2.0)\r\n",
      "Requirement already satisfied: intel-cmplr-lib-ur==2024.2.0 in /usr/local/lib/python3.10/dist-packages (from intel-openmp>=2024->mkl->numpy>=1.17->evaluate) (2024.2.0)\r\n",
      "Downloading evaluate-0.4.3-py3-none-any.whl (84 kB)\r\n",
      "\u001b[2K   \u001b[90m━━━━━━━━━━━━━━━━━━━━━━━━━━━━━━━━━━━━━━━━\u001b[0m \u001b[32m84.0/84.0 kB\u001b[0m \u001b[31m3.1 MB/s\u001b[0m eta \u001b[36m0:00:00\u001b[0m\r\n",
      "\u001b[?25hInstalling collected packages: evaluate\r\n",
      "Successfully installed evaluate-0.4.3\r\n"
     ]
    }
   ],
   "source": [
    "!pip install evaluate"
   ]
  },
  {
   "cell_type": "code",
   "execution_count": 3,
   "id": "562991d0",
   "metadata": {
    "_cell_guid": "b1076dfc-b9ad-4769-8c92-a6c4dae69d19",
    "_uuid": "8f2839f25d086af736a60e9eeb907d3b93b6e0e5",
    "execution": {
     "iopub.execute_input": "2025-02-16T14:42:28.654207Z",
     "iopub.status.busy": "2025-02-16T14:42:28.653908Z",
     "iopub.status.idle": "2025-02-16T14:42:40.980055Z",
     "shell.execute_reply": "2025-02-16T14:42:40.979422Z"
    },
    "papermill": {
     "duration": 12.332874,
     "end_time": "2025-02-16T14:42:40.981521",
     "exception": false,
     "start_time": "2025-02-16T14:42:28.648647",
     "status": "completed"
    },
    "tags": []
   },
   "outputs": [],
   "source": [
    "# Data Processing n' Visualization\n",
    "import matplotlib.pyplot as plt\n",
    "import pandas as pd\n",
    "import seaborn as sns\n",
    "\n",
    "# Compute\n",
    "import numpy as np\n",
    "import torch\n",
    "import torch.nn as nn\n",
    "import torch.optim as optim\n",
    "\n",
    "# Data\n",
    "from torch.utils.data import Dataset, DataLoader\n",
    "from sklearn.model_selection import train_test_split\n",
    "\n",
    "# Random\n",
    "import os\n",
    "import random as rand\n",
    "import timm"
   ]
  },
  {
   "cell_type": "code",
   "execution_count": 4,
   "id": "0a5db650",
   "metadata": {
    "execution": {
     "iopub.execute_input": "2025-02-16T14:42:40.991934Z",
     "iopub.status.busy": "2025-02-16T14:42:40.991711Z",
     "iopub.status.idle": "2025-02-16T14:42:40.994917Z",
     "shell.execute_reply": "2025-02-16T14:42:40.994275Z"
    },
    "papermill": {
     "duration": 0.009671,
     "end_time": "2025-02-16T14:42:40.996162",
     "exception": false,
     "start_time": "2025-02-16T14:42:40.986491",
     "status": "completed"
    },
    "tags": []
   },
   "outputs": [],
   "source": [
    "torch.cuda.empty_cache()"
   ]
  },
  {
   "cell_type": "code",
   "execution_count": 5,
   "id": "b580baf1",
   "metadata": {
    "execution": {
     "iopub.execute_input": "2025-02-16T14:42:41.006102Z",
     "iopub.status.busy": "2025-02-16T14:42:41.005878Z",
     "iopub.status.idle": "2025-02-16T14:42:41.011490Z",
     "shell.execute_reply": "2025-02-16T14:42:41.010617Z"
    },
    "papermill": {
     "duration": 0.011946,
     "end_time": "2025-02-16T14:42:41.012687",
     "exception": false,
     "start_time": "2025-02-16T14:42:41.000741",
     "status": "completed"
    },
    "tags": []
   },
   "outputs": [],
   "source": [
    "def set_seed(seed):\n",
    "  rand.seed(seed)\n",
    "  np.random.seed(seed)\n",
    "  torch.cuda.manual_seed(seed)\n",
    "  torch.cuda.manual_seed_all(seed)\n",
    "  torch.backends.cudnn.deterministic = True\n",
    "  torch.backends.cudnn.benchmark = False\n",
    "\n",
    "seed = 59\n",
    "set_seed(59)"
   ]
  },
  {
   "cell_type": "markdown",
   "id": "79d982a3",
   "metadata": {
    "papermill": {
     "duration": 0.004547,
     "end_time": "2025-02-16T14:42:41.021868",
     "exception": false,
     "start_time": "2025-02-16T14:42:41.017321",
     "status": "completed"
    },
    "tags": []
   },
   "source": [
    "--------------------\n",
    "# **Data Sample**"
   ]
  },
  {
   "cell_type": "code",
   "execution_count": 6,
   "id": "f8851892",
   "metadata": {
    "execution": {
     "iopub.execute_input": "2025-02-16T14:42:41.031698Z",
     "iopub.status.busy": "2025-02-16T14:42:41.031475Z",
     "iopub.status.idle": "2025-02-16T14:42:41.034541Z",
     "shell.execute_reply": "2025-02-16T14:42:41.033759Z"
    },
    "papermill": {
     "duration": 0.009218,
     "end_time": "2025-02-16T14:42:41.035669",
     "exception": false,
     "start_time": "2025-02-16T14:42:41.026451",
     "status": "completed"
    },
    "tags": []
   },
   "outputs": [],
   "source": [
    "data_dir = '/kaggle/input/wharton-basketball-dataset/games_2022.xlsx'"
   ]
  },
  {
   "cell_type": "code",
   "execution_count": 7,
   "id": "f65134c4",
   "metadata": {
    "execution": {
     "iopub.execute_input": "2025-02-16T14:42:41.045842Z",
     "iopub.status.busy": "2025-02-16T14:42:41.045622Z",
     "iopub.status.idle": "2025-02-16T14:42:46.654061Z",
     "shell.execute_reply": "2025-02-16T14:42:46.653089Z"
    },
    "papermill": {
     "duration": 5.615243,
     "end_time": "2025-02-16T14:42:46.655488",
     "exception": false,
     "start_time": "2025-02-16T14:42:41.040245",
     "status": "completed"
    },
    "tags": []
   },
   "outputs": [
    {
     "name": "stdout",
     "output_type": "stream",
     "text": [
      "Dataset Type: <class 'pandas.core.frame.DataFrame'>\n"
     ]
    }
   ],
   "source": [
    "df = pd.read_excel(data_dir)\n",
    "print(f\"Dataset Type: {type(df)}\")"
   ]
  },
  {
   "cell_type": "code",
   "execution_count": 8,
   "id": "8140fbbc",
   "metadata": {
    "execution": {
     "iopub.execute_input": "2025-02-16T14:42:46.666561Z",
     "iopub.status.busy": "2025-02-16T14:42:46.666183Z",
     "iopub.status.idle": "2025-02-16T14:42:46.669322Z",
     "shell.execute_reply": "2025-02-16T14:42:46.668701Z"
    },
    "papermill": {
     "duration": 0.009899,
     "end_time": "2025-02-16T14:42:46.670533",
     "exception": false,
     "start_time": "2025-02-16T14:42:46.660634",
     "status": "completed"
    },
    "tags": []
   },
   "outputs": [],
   "source": [
    "df_ts = df"
   ]
  },
  {
   "cell_type": "markdown",
   "id": "4171f0b4",
   "metadata": {
    "papermill": {
     "duration": 0.004479,
     "end_time": "2025-02-16T14:42:46.679791",
     "exception": false,
     "start_time": "2025-02-16T14:42:46.675312",
     "status": "completed"
    },
    "tags": []
   },
   "source": [
    "----------------------------\n",
    "# **Data Preprocessing**"
   ]
  },
  {
   "cell_type": "code",
   "execution_count": 9,
   "id": "d7106381",
   "metadata": {
    "execution": {
     "iopub.execute_input": "2025-02-16T14:42:46.689796Z",
     "iopub.status.busy": "2025-02-16T14:42:46.689586Z",
     "iopub.status.idle": "2025-02-16T14:42:46.731547Z",
     "shell.execute_reply": "2025-02-16T14:42:46.730678Z"
    },
    "papermill": {
     "duration": 0.048317,
     "end_time": "2025-02-16T14:42:46.732774",
     "exception": false,
     "start_time": "2025-02-16T14:42:46.684457",
     "status": "completed"
    },
    "tags": []
   },
   "outputs": [
    {
     "name": "stdout",
     "output_type": "stream",
     "text": [
      "          game_id  game_date                       team     FGA_2     FGM_2  \\\n",
      "0  game_2022_2011 2021-12-30      georgia_lady_bulldogs  0.661290  0.513514   \n",
      "1  game_2022_2011 2021-12-30                 lsu_tigers  0.661290  0.567568   \n",
      "2  game_2022_2012 2021-12-30            missouri_tigers  0.548387  0.405405   \n",
      "3  game_2022_2012 2021-12-30   south_carolina_gamecocks  0.741935  0.540541   \n",
      "4  game_2022_2013 2021-12-30  tennessee_lady_volunteers  0.516129  0.459459   \n",
      "\n",
      "      FGA_3     FGM_3       FTA    FTM       AST  ...       TOV  TOV_team  \\\n",
      "0  0.196078  0.227273  0.125000  0.075  0.361111  ...  0.390244  0.000000   \n",
      "1  0.196078  0.181818  0.312500  0.200  0.388889  ...  0.292683  0.333333   \n",
      "2  0.274510  0.318182  0.333333  0.325  0.250000  ...  0.146341  0.166667   \n",
      "3  0.392157  0.272727  0.187500  0.125  0.388889  ...  0.146341  0.000000   \n",
      "4  0.274510  0.181818  0.312500  0.250  0.416667  ...  0.317073  0.166667   \n",
      "\n",
      "       DREB     OREB  F_tech  F_personal  rest_days  prev_game_dist  \\\n",
      "0  0.410256  0.34375     0.0    0.451613   0.210526        0.000000   \n",
      "1  0.410256  0.34375     0.0    0.096774   0.052632        0.105722   \n",
      "2  0.564103  0.18750     0.0    0.225806   0.184211        0.047601   \n",
      "3  0.461538  0.62500     0.0    0.354839   0.210526        0.148063   \n",
      "4  0.641026  0.37500     0.0    0.290323   0.052632        0.000000   \n",
      "\n",
      "   home_away_NS  travel_dist  \n",
      "0             1     0.000000  \n",
      "1             0     0.121105  \n",
      "2             1     0.000000  \n",
      "3             0     0.169606  \n",
      "4             1     0.000000  \n",
      "\n",
      "[5 rows x 22 columns]\n"
     ]
    }
   ],
   "source": [
    "df_ts = df_ts.drop(columns = ['OT_length_min_tot', 'attendance', 'tz_dif_H_E', 'opponent_team_score', \n",
    "                        'team_score', 'home_away', 'notD1_incomplete', 'largest_lead'])\n",
    "df_ts = df_ts.dropna()\n",
    "df_ts['home_away_NS'] = df_ts['home_away_NS'].replace({\n",
    "    1: 1, -1: 0, 0: 2\n",
    "})\n",
    "\n",
    "from sklearn.preprocessing import MinMaxScaler\n",
    "\n",
    "# List of columns to normalize\n",
    "stats_to_normalize = ['FGA_2', 'FGM_2', 'FGA_3', 'FGM_3', \n",
    "                      'FTA', 'FTM', 'AST', 'BLK', 'STL', 'TOV', \n",
    "                      'TOV_team', 'DREB', 'OREB', 'F_tech', 'F_personal', \n",
    "                      'rest_days', 'prev_game_dist', 'travel_dist']\n",
    "\n",
    "# Initialize MinMaxScaler\n",
    "scaler = MinMaxScaler(feature_range=(0,1))\n",
    "\n",
    "# Apply MinMaxScaler only to the selected stats\n",
    "df_ts[stats_to_normalize] = scaler.fit_transform(df_ts[stats_to_normalize])\n",
    "\n",
    "print(df_ts.head())  # Check normalized values"
   ]
  },
  {
   "cell_type": "code",
   "execution_count": 10,
   "id": "d549fd08",
   "metadata": {
    "execution": {
     "iopub.execute_input": "2025-02-16T14:42:46.743372Z",
     "iopub.status.busy": "2025-02-16T14:42:46.743153Z",
     "iopub.status.idle": "2025-02-16T14:42:51.489990Z",
     "shell.execute_reply": "2025-02-16T14:42:51.489287Z"
    },
    "papermill": {
     "duration": 4.753766,
     "end_time": "2025-02-16T14:42:51.491580",
     "exception": false,
     "start_time": "2025-02-16T14:42:46.737814",
     "status": "completed"
    },
    "scrolled": true,
    "tags": []
   },
   "outputs": [
    {
     "name": "stdout",
     "output_type": "stream",
     "text": [
      "[0.6612903225806451 0.5135135135135136 0.19607843137254904\n",
      " 0.2272727272727273 0.125 0.07500000000000001 0.36111111111111105\n",
      " 0.38888888888888884 0.25925925925925924 0.3902439024390244 0.0\n",
      " 0.41025641025641024 0.34375 0.0 0.4516129032258064 0.05263157894736842\n",
      " 0.06209905055170644 0 0.07113462669018225]\n",
      "Type of combined_stats: <class 'numpy.ndarray'>\n",
      "First Index: 0.6612903225806451\n",
      "-----------------------------------------------------------\n",
      "Label: [0.7580645161290323 0.6216216216216217 0.09803921568627451\n",
      " 0.045454545454545456 0.47916666666666663 0.45 0.25 0.1111111111111111\n",
      " 0.5555555555555556 0.3658536585365854 0.3333333333333333\n",
      " 0.2564102564102564 0.5 0.0 0.3548387096774194]\n",
      "Type of Label: <class 'numpy.ndarray'>\n",
      "First Index: 0.7580645161290323\n"
     ]
    }
   ],
   "source": [
    "Data = {}\n",
    "X = []\n",
    "y = []\n",
    "start_col = 'FGA_2'\n",
    "end_col = 'F_personal'\n",
    "\n",
    "start_col_nx = 'rest_days'\n",
    "end_col_nx = 'travel_dist'\n",
    "# Loop through all Teams in Dataset\n",
    "for i ,team in enumerate(df_ts['team'].unique()):\n",
    "    team_data = df_ts[df_ts['team'] == team]\n",
    "    for idx in range(len(team_data) - 1):\n",
    "        # Features = past game (FGA_2 to F_personal) + current game stats (rest_days to travel_dist)\n",
    "        past_game = team_data.iloc[idx]\n",
    "        next_game = team_data.iloc[idx + 1]\n",
    "        \n",
    "        past_stats = past_game.loc[start_col : end_col].values\n",
    "        next_stats = next_game.loc[start_col_nx:end_col_nx].values\n",
    "\n",
    "        # We predict next game FGA_2 to F_personal\n",
    "        label = next_game.loc[start_col:end_col].values\n",
    "\n",
    "        if idx == 0 and i == 0:\n",
    "            combined_stats_x = np.concatenate((past_stats, next_stats))\n",
    "            print(combined_stats_x)\n",
    "            print(f\"Type of combined_stats: {type(combined_stats_x)}\")\n",
    "            print(f\"First Index: {combined_stats_x[0]}\")\n",
    "            print(\"-\"*59)\n",
    "            print(f\"Label: {label}\")\n",
    "            print(f\"Type of Label: {type(label)}\")\n",
    "            print(f\"First Index: {label[0]}\")\n",
    "\n",
    "        combined_stats = np.concatenate((past_stats, next_stats))\n",
    "        X.append(combined_stats)\n",
    "        y.append(label)"
   ]
  },
  {
   "cell_type": "code",
   "execution_count": 11,
   "id": "56924c9c",
   "metadata": {
    "execution": {
     "iopub.execute_input": "2025-02-16T14:42:51.503277Z",
     "iopub.status.busy": "2025-02-16T14:42:51.503040Z",
     "iopub.status.idle": "2025-02-16T14:42:51.508420Z",
     "shell.execute_reply": "2025-02-16T14:42:51.507770Z"
    },
    "papermill": {
     "duration": 0.012592,
     "end_time": "2025-02-16T14:42:51.509648",
     "exception": false,
     "start_time": "2025-02-16T14:42:51.497056",
     "status": "completed"
    },
    "scrolled": true,
    "tags": []
   },
   "outputs": [
    {
     "name": "stdout",
     "output_type": "stream",
     "text": [
      "First Features: [0.6612903225806451 0.5135135135135136 0.19607843137254904\n",
      " 0.2272727272727273 0.125 0.07500000000000001 0.36111111111111105\n",
      " 0.38888888888888884 0.25925925925925924 0.3902439024390244 0.0\n",
      " 0.41025641025641024 0.34375 0.0 0.4516129032258064 0.05263157894736842\n",
      " 0.06209905055170644 0 0.07113462669018225]\n",
      "Number of Features: 19\n",
      "-----------------------------------------------------------\n",
      "First Labels: [0.7580645161290323 0.6216216216216217 0.09803921568627451\n",
      " 0.045454545454545456 0.47916666666666663 0.45 0.25 0.1111111111111111\n",
      " 0.5555555555555556 0.3658536585365854 0.3333333333333333\n",
      " 0.2564102564102564 0.5 0.0 0.3548387096774194]\n",
      "Number of Features to Predict: 15\n",
      "Type: (<class 'list'>, <class 'list'>)\n"
     ]
    }
   ],
   "source": [
    "print(f\"First Features: {X[0]}\")\n",
    "print(f\"Number of Features: {len(X[0])}\")\n",
    "\n",
    "print(\"-\"*59)\n",
    "print(f\"First Labels: {y[0]}\")\n",
    "print(f\"Number of Features to Predict: {len(y[0])}\")\n",
    "\n",
    "print(f\"Type: {type(X), type(y)}\")"
   ]
  },
  {
   "cell_type": "code",
   "execution_count": 12,
   "id": "0997f285",
   "metadata": {
    "execution": {
     "iopub.execute_input": "2025-02-16T14:42:51.520399Z",
     "iopub.status.busy": "2025-02-16T14:42:51.520181Z",
     "iopub.status.idle": "2025-02-16T14:42:51.575910Z",
     "shell.execute_reply": "2025-02-16T14:42:51.575283Z"
    },
    "papermill": {
     "duration": 0.062263,
     "end_time": "2025-02-16T14:42:51.577111",
     "exception": false,
     "start_time": "2025-02-16T14:42:51.514848",
     "status": "completed"
    },
    "tags": []
   },
   "outputs": [],
   "source": [
    "X = np.array(X, dtype=np.float32)\n",
    "y = np.array(y, dtype=np.float32)"
   ]
  },
  {
   "cell_type": "markdown",
   "id": "d29fd636",
   "metadata": {
    "papermill": {
     "duration": 0.004946,
     "end_time": "2025-02-16T14:42:51.587196",
     "exception": false,
     "start_time": "2025-02-16T14:42:51.582250",
     "status": "completed"
    },
    "tags": []
   },
   "source": [
    "----------------------------\n",
    "# **Dataset**"
   ]
  },
  {
   "cell_type": "code",
   "execution_count": 13,
   "id": "228590e0",
   "metadata": {
    "execution": {
     "iopub.execute_input": "2025-02-16T14:42:51.598371Z",
     "iopub.status.busy": "2025-02-16T14:42:51.598158Z",
     "iopub.status.idle": "2025-02-16T14:42:51.606642Z",
     "shell.execute_reply": "2025-02-16T14:42:51.605862Z"
    },
    "papermill": {
     "duration": 0.015326,
     "end_time": "2025-02-16T14:42:51.607857",
     "exception": false,
     "start_time": "2025-02-16T14:42:51.592531",
     "status": "completed"
    },
    "tags": []
   },
   "outputs": [
    {
     "name": "stdout",
     "output_type": "stream",
     "text": [
      "(6139, 19)\n",
      "(6139, 15)\n",
      "Type of X_train and X_test: <class 'numpy.ndarray'> | <class 'numpy.ndarray'>\n",
      "float32 float32\n",
      "float32 float32\n",
      "float32 float32\n"
     ]
    }
   ],
   "source": [
    "X_train, X_test, y_train, y_test = train_test_split(X, y, test_size=0.3, random_state=42)\n",
    "X_test, X_val, y_test, y_val = train_test_split(X_test, y_test, test_size=0.33, random_state=42)\n",
    "\n",
    "print(X_train.shape)  # Should be (num_samples, num_features) → (N, 19)\n",
    "print(y_train.shape)  # Should be (num_samples, num_outputs) → (N, 15)\n",
    "print(f\"Type of X_train and X_test: {type(X_train)} | {type(X_test)}\")\n",
    "print(X_train.dtype, y_train.dtype)\n",
    "print(X_val.dtype, y_val.dtype)\n",
    "print(X_test.dtype, y_test.dtype)"
   ]
  },
  {
   "cell_type": "code",
   "execution_count": 14,
   "id": "1ab3419f",
   "metadata": {
    "execution": {
     "iopub.execute_input": "2025-02-16T14:42:51.618849Z",
     "iopub.status.busy": "2025-02-16T14:42:51.618631Z",
     "iopub.status.idle": "2025-02-16T14:42:51.622827Z",
     "shell.execute_reply": "2025-02-16T14:42:51.622196Z"
    },
    "papermill": {
     "duration": 0.010963,
     "end_time": "2025-02-16T14:42:51.624047",
     "exception": false,
     "start_time": "2025-02-16T14:42:51.613084",
     "status": "completed"
    },
    "tags": []
   },
   "outputs": [],
   "source": [
    "import torch\n",
    "from torch.utils.data import Dataset\n",
    "\n",
    "class bkb_dataset(Dataset):\n",
    "    def __init__(self, data, label):\n",
    "        self.data = data\n",
    "        self.label = label\n",
    "\n",
    "    def __len__(self):\n",
    "        return len(self.data)\n",
    "\n",
    "    def __getitem__(self, idx):\n",
    "        feature = torch.tensor(self.data[idx], dtype=torch.float32)  # Use float32\n",
    "        label = torch.tensor(self.label[idx], dtype=torch.float32)  # Use float32\n",
    "\n",
    "        return {\"input_ids\": feature, \"labels\": label}"
   ]
  },
  {
   "cell_type": "code",
   "execution_count": 15,
   "id": "dc660d50",
   "metadata": {
    "execution": {
     "iopub.execute_input": "2025-02-16T14:42:51.635225Z",
     "iopub.status.busy": "2025-02-16T14:42:51.634976Z",
     "iopub.status.idle": "2025-02-16T14:42:51.639345Z",
     "shell.execute_reply": "2025-02-16T14:42:51.638656Z"
    },
    "papermill": {
     "duration": 0.011097,
     "end_time": "2025-02-16T14:42:51.640463",
     "exception": false,
     "start_time": "2025-02-16T14:42:51.629366",
     "status": "completed"
    },
    "tags": []
   },
   "outputs": [
    {
     "name": "stdout",
     "output_type": "stream",
     "text": [
      "Length of train_set: 6139\n",
      "Length of test_set: 1763\n",
      "Length of val_set: 869\n"
     ]
    }
   ],
   "source": [
    "train_set = bkb_dataset(\n",
    "    X_train,\n",
    "    y_train,\n",
    ")\n",
    "\n",
    "val_set = bkb_dataset(\n",
    "    X_val,\n",
    "    y_val,\n",
    ")\n",
    "\n",
    "test_set = bkb_dataset(\n",
    "    X_test,\n",
    "    y_test,\n",
    ")\n",
    "print(f\"Length of train_set: {len(train_set)}\")\n",
    "print(f\"Length of test_set: {len(test_set)}\")\n",
    "print(f\"Length of val_set: {len(val_set)}\")"
   ]
  },
  {
   "cell_type": "code",
   "execution_count": 16,
   "id": "fae91fbe",
   "metadata": {
    "execution": {
     "iopub.execute_input": "2025-02-16T14:42:51.651395Z",
     "iopub.status.busy": "2025-02-16T14:42:51.651190Z",
     "iopub.status.idle": "2025-02-16T14:42:51.656359Z",
     "shell.execute_reply": "2025-02-16T14:42:51.655697Z"
    },
    "papermill": {
     "duration": 0.011882,
     "end_time": "2025-02-16T14:42:51.657505",
     "exception": false,
     "start_time": "2025-02-16T14:42:51.645623",
     "status": "completed"
    },
    "tags": []
   },
   "outputs": [
    {
     "name": "stdout",
     "output_type": "stream",
     "text": [
      "Length train_loader: 24\n",
      "Length test_loader: 56\n",
      "Length val_loader: 28\n"
     ]
    }
   ],
   "source": [
    "train_batch = 256\n",
    "test_batch = 32\n",
    "\n",
    "train_loader = DataLoader(\n",
    "    train_set,\n",
    "    batch_size = train_batch,\n",
    "    shuffle = True\n",
    ")\n",
    "\n",
    "val_loader = DataLoader(\n",
    "    val_set,\n",
    "    batch_size = test_batch,\n",
    "    shuffle = False\n",
    ")\n",
    "\n",
    "test_loader = DataLoader(\n",
    "    test_set,\n",
    "    batch_size = test_batch,\n",
    "    shuffle = False\n",
    ")\n",
    "print(f\"Length train_loader: {len(train_loader)}\")\n",
    "print(f\"Length test_loader: {len(test_loader)}\")\n",
    "print(f\"Length val_loader: {len(val_loader)}\")"
   ]
  },
  {
   "cell_type": "markdown",
   "id": "d1a48097",
   "metadata": {
    "papermill": {
     "duration": 0.00527,
     "end_time": "2025-02-16T14:42:51.668114",
     "exception": false,
     "start_time": "2025-02-16T14:42:51.662844",
     "status": "completed"
    },
    "tags": []
   },
   "source": [
    "-----------------\n",
    "# **Model**"
   ]
  },
  {
   "cell_type": "code",
   "execution_count": 17,
   "id": "ecba10b2",
   "metadata": {
    "execution": {
     "iopub.execute_input": "2025-02-16T14:42:51.679603Z",
     "iopub.status.busy": "2025-02-16T14:42:51.679387Z",
     "iopub.status.idle": "2025-02-16T14:42:51.962392Z",
     "shell.execute_reply": "2025-02-16T14:42:51.961812Z"
    },
    "papermill": {
     "duration": 0.289887,
     "end_time": "2025-02-16T14:42:51.963631",
     "exception": false,
     "start_time": "2025-02-16T14:42:51.673744",
     "status": "completed"
    },
    "tags": []
   },
   "outputs": [],
   "source": [
    "from huggingface_hub import login\n",
    "\n",
    "from kaggle_secrets import UserSecretsClient\n",
    "user_secrets = UserSecretsClient()\n",
    "HUGGINGFACE_TOKEN = user_secrets.get_secret(\"HF_TOKEN\")\n",
    "\n",
    "# Login to Hugging Face\n",
    "login(HUGGINGFACE_TOKEN)"
   ]
  },
  {
   "cell_type": "code",
   "execution_count": 18,
   "id": "f6c6ab72",
   "metadata": {
    "execution": {
     "iopub.execute_input": "2025-02-16T14:42:51.975240Z",
     "iopub.status.busy": "2025-02-16T14:42:51.975007Z",
     "iopub.status.idle": "2025-02-16T14:42:52.050770Z",
     "shell.execute_reply": "2025-02-16T14:42:52.049941Z"
    },
    "papermill": {
     "duration": 0.082716,
     "end_time": "2025-02-16T14:42:52.051930",
     "exception": false,
     "start_time": "2025-02-16T14:42:51.969214",
     "status": "completed"
    },
    "tags": []
   },
   "outputs": [],
   "source": [
    "device = torch.device(\"cuda\" if torch.cuda.is_available() else \"cpu\")"
   ]
  },
  {
   "cell_type": "code",
   "execution_count": 19,
   "id": "804b4cf9",
   "metadata": {
    "execution": {
     "iopub.execute_input": "2025-02-16T14:42:52.063899Z",
     "iopub.status.busy": "2025-02-16T14:42:52.063670Z",
     "iopub.status.idle": "2025-02-16T14:42:53.454687Z",
     "shell.execute_reply": "2025-02-16T14:42:53.453721Z"
    },
    "papermill": {
     "duration": 1.398722,
     "end_time": "2025-02-16T14:42:53.456316",
     "exception": false,
     "start_time": "2025-02-16T14:42:52.057594",
     "status": "completed"
    },
    "tags": []
   },
   "outputs": [
    {
     "data": {
      "application/vnd.jupyter.widget-view+json": {
       "model_id": "60389986befb481092c80d98f8bbb728",
       "version_major": 2,
       "version_minor": 0
      },
      "text/plain": [
       "model.safetensors:   0%|          | 0.00/102M [00:00<?, ?B/s]"
      ]
     },
     "metadata": {},
     "output_type": "display_data"
    },
    {
     "name": "stdout",
     "output_type": "stream",
     "text": [
      "torch.Size([1, 15])\n"
     ]
    }
   ],
   "source": [
    "import torch.nn.functional as F\n",
    "\n",
    "class FeatureGrouping(nn.Module):\n",
    "    def __init__(self, num_features=19, max_groups=3, embed_dim=4, output_dim=15, resnet_model=\"resnet50\", finetune=True):\n",
    "        super().__init__()\n",
    "        self.num_features = num_features\n",
    "        self.max_groups = max_groups\n",
    "        self.embed_dim = embed_dim\n",
    "        self.output_dim = output_dim\n",
    "\n",
    "        # Embedding for home_away (3 categories: Home, Away, Neutral)\n",
    "        self.home_away_embed = nn.Embedding(3, embed_dim)\n",
    "\n",
    "        # Adjust feature count after embedding replacement\n",
    "        self.adjusted_num_features = num_features - 1 + embed_dim  # 22 total features\n",
    "\n",
    "        # Maximum features per group\n",
    "        self.max_features_per_group = self.adjusted_num_features\n",
    "\n",
    "        # Learnable logits for feature assignment\n",
    "        self.assignment_logits = nn.Parameter(torch.randn(self.adjusted_num_features, max_groups))\n",
    "\n",
    "        # Self-Attention layers for different group numbers\n",
    "        self.attention_layers = nn.ModuleDict({\n",
    "            f\"attn_{g}\": nn.MultiheadAttention(\n",
    "                embed_dim=self.max_features_per_group,\n",
    "                num_heads=1,\n",
    "                batch_first=True\n",
    "            )\n",
    "            for g in range(1, max_groups + 1)\n",
    "        })\n",
    "\n",
    "        # Reduce channels before ResNet\n",
    "        self.channel_reducer = nn.Conv2d(in_channels=max_groups, out_channels=3, kernel_size=1)\n",
    "\n",
    "        # Pretrained ResNet\n",
    "        self.resnet = timm.create_model(resnet_model, pretrained=True)\n",
    "        in_features = self.resnet.get_classifier().in_features\n",
    "        self.resnet.reset_classifier(0)\n",
    "\n",
    "        # Final regression head\n",
    "        self.fc = nn.Linear(in_features, output_dim)\n",
    "\n",
    "        # Fine-tuning control\n",
    "        if finetune:\n",
    "            for param in self.resnet.parameters():\n",
    "                param.requires_grad = True\n",
    "        else:\n",
    "            for param in self.resnet.parameters():\n",
    "                param.requires_grad = False\n",
    "\n",
    "    def forward(self, x):\n",
    "        batch_size = x.shape[0]\n",
    "\n",
    "        # Process home_away embedding\n",
    "        home_away_idx = x[:, 17].long().clamp(0, 2)\n",
    "        home_away_embed = self.home_away_embed(home_away_idx)\n",
    "        x = torch.cat([x[:, :17], home_away_embed, x[:, 18:]], dim=1)\n",
    "\n",
    "        # Hard feature assignment\n",
    "        assignment_hard = torch.nn.functional.gumbel_softmax(self.assignment_logits, tau=0.5, hard=True, dim=1)\n",
    "\n",
    "        all_group_outputs = []\n",
    "\n",
    "        # Process different group configurations\n",
    "        for num_groups in range(1, self.max_groups + 1):\n",
    "            groups = []\n",
    "            features_per_group = self.adjusted_num_features // num_groups\n",
    "\n",
    "            for g in range(num_groups):\n",
    "                start_idx = g * features_per_group\n",
    "                end_idx = min(start_idx + features_per_group, self.adjusted_num_features)\n",
    "                group_features = x[:, start_idx:end_idx]\n",
    "\n",
    "                # Pad to match max_features_per_group\n",
    "                if group_features.shape[1] < self.max_features_per_group:\n",
    "                    pad_size = self.max_features_per_group - group_features.shape[1]\n",
    "                    padding = torch.zeros(batch_size, pad_size, device=x.device)\n",
    "                    group_features = torch.cat([group_features, padding], dim=1)\n",
    "\n",
    "                groups.append(group_features)\n",
    "\n",
    "            # Apply attention to each group\n",
    "            processed_groups = []\n",
    "            for g in range(num_groups):\n",
    "                group_features = groups[g].unsqueeze(1)\n",
    "                attn_output, _ = self.attention_layers[f\"attn_{num_groups}\"](group_features, group_features, group_features)\n",
    "                processed_groups.append(attn_output)\n",
    "\n",
    "            # Concatenate processed groups\n",
    "            group_output = torch.cat(processed_groups, dim=1)\n",
    "\n",
    "            # Pad to match max_groups if necessary\n",
    "            if num_groups < self.max_groups:\n",
    "                padding = torch.zeros(batch_size, self.max_groups - num_groups, self.max_features_per_group, device=x.device)\n",
    "                group_output = torch.cat([group_output, padding], dim=1)\n",
    "\n",
    "            all_group_outputs.append(group_output)\n",
    "\n",
    "        # Stack different group configurations\n",
    "        x_final = torch.stack(all_group_outputs, dim=1)  # [B, max_groups, max_groups, Features]\n",
    "\n",
    "        # Reduce across different group choices\n",
    "        x_final = x_final.mean(dim=1)  # [B, max_groups, Features]\n",
    "        x_final = x_final.permute(0, 2, 1)  # [B, Features, max_groups]\n",
    "        x_final = x_final.mean(dim=1).unsqueeze(-1).unsqueeze(-1)  # [B, max_groups, 1, 1]\n",
    "\n",
    "        # Apply channel reduction\n",
    "        x_final = self.channel_reducer(x_final)  # [B, 3, 1, 1]\n",
    "\n",
    "        # Resize for ResNet\n",
    "        x_final = x_final.expand(-1, -1, 224, 224)  # [B, 3, 224, 224]\n",
    "\n",
    "        # Process through ResNet and final layer\n",
    "        x_final = self.resnet(x_final)\n",
    "        output = self.fc(x_final)\n",
    "\n",
    "        return output\n",
    "\n",
    "\n",
    "batch_size = 1\n",
    "x = torch.randn(batch_size, 19)  # Example input features\n",
    "model = FeatureGrouping(resnet_model=\"resnet50\")  # Using ResNet50\n",
    "output = model(x)\n",
    "print(output.shape)  # Expected: (B, 15)"
   ]
  },
  {
   "cell_type": "markdown",
   "id": "57bd8e07",
   "metadata": {
    "papermill": {
     "duration": 0.005365,
     "end_time": "2025-02-16T14:42:53.467765",
     "exception": false,
     "start_time": "2025-02-16T14:42:53.462400",
     "status": "completed"
    },
    "tags": []
   },
   "source": [
    "-----------------------\n",
    "# **Train**"
   ]
  },
  {
   "cell_type": "code",
   "execution_count": 20,
   "id": "3ab89963",
   "metadata": {
    "execution": {
     "iopub.execute_input": "2025-02-16T14:42:53.479729Z",
     "iopub.status.busy": "2025-02-16T14:42:53.479500Z",
     "iopub.status.idle": "2025-02-16T14:43:05.479579Z",
     "shell.execute_reply": "2025-02-16T14:43:05.478653Z"
    },
    "papermill": {
     "duration": 12.008238,
     "end_time": "2025-02-16T14:43:05.481561",
     "exception": false,
     "start_time": "2025-02-16T14:42:53.473323",
     "status": "completed"
    },
    "tags": []
   },
   "outputs": [
    {
     "name": "stderr",
     "output_type": "stream",
     "text": [
      "The cache for model files in Transformers v4.22.0 has been updated. Migrating your old cache. This is a one-time only operation. You can interrupt this and resume the migration later on by calling `transformers.utils.move_cache()`.\n"
     ]
    },
    {
     "data": {
      "application/vnd.jupyter.widget-view+json": {
       "model_id": "63522109ecd44f22ae1c1ed7289f2e89",
       "version_major": 2,
       "version_minor": 0
      },
      "text/plain": [
       "0it [00:00, ?it/s]"
      ]
     },
     "metadata": {},
     "output_type": "display_data"
    }
   ],
   "source": [
    "from transformers import PreTrainedModel, PretrainedConfig\n",
    "\n",
    "class FeatureGroupingConfig(PretrainedConfig):\n",
    "    model_type = \"feature_grouping\"\n",
    "\n",
    "    def __init__(self, num_features=19, output_dim=15, **kwargs):\n",
    "        super().__init__(**kwargs)\n",
    "        self.num_features = num_features\n",
    "        self.output_dim = output_dim\n",
    "\n",
    "class FeatureGroupingModel(PreTrainedModel):\n",
    "    config_class = FeatureGroupingConfig\n",
    "\n",
    "    def __init__(self, config):\n",
    "        super().__init__(config)\n",
    "        self.model = FeatureGrouping(\n",
    "            num_features=config.num_features, \n",
    "            output_dim=config.output_dim\n",
    "        )\n",
    "\n",
    "    def forward(self, input_ids, labels=None):\n",
    "        output = self.model(input_ids)\n",
    "\n",
    "        loss = None\n",
    "        if labels is not None:\n",
    "            loss = F.smooth_l1_loss(output, labels)  # Mean Squared Error for regression\n",
    "\n",
    "        return {\"loss\": loss, \"logits\": output} if loss is not None else {\"logits\": output}"
   ]
  },
  {
   "cell_type": "code",
   "execution_count": 21,
   "id": "8c76d552",
   "metadata": {
    "execution": {
     "iopub.execute_input": "2025-02-16T14:43:05.495012Z",
     "iopub.status.busy": "2025-02-16T14:43:05.494481Z",
     "iopub.status.idle": "2025-02-16T15:21:52.984371Z",
     "shell.execute_reply": "2025-02-16T15:21:52.983525Z"
    },
    "papermill": {
     "duration": 2327.497816,
     "end_time": "2025-02-16T15:21:52.985761",
     "exception": false,
     "start_time": "2025-02-16T14:43:05.487945",
     "status": "completed"
    },
    "scrolled": true,
    "tags": []
   },
   "outputs": [
    {
     "data": {
      "text/html": [
       "\n",
       "    <div>\n",
       "      \n",
       "      <progress value='1440' max='1440' style='width:300px; height:20px; vertical-align: middle;'></progress>\n",
       "      [1440/1440 38:34, Epoch 60/60]\n",
       "    </div>\n",
       "    <table border=\"1\" class=\"dataframe\">\n",
       "  <thead>\n",
       " <tr style=\"text-align: left;\">\n",
       "      <th>Epoch</th>\n",
       "      <th>Training Loss</th>\n",
       "      <th>Validation Loss</th>\n",
       "    </tr>\n",
       "  </thead>\n",
       "  <tbody>\n",
       "    <tr>\n",
       "      <td>1</td>\n",
       "      <td>0.052300</td>\n",
       "      <td>0.054806</td>\n",
       "    </tr>\n",
       "    <tr>\n",
       "      <td>2</td>\n",
       "      <td>0.040200</td>\n",
       "      <td>0.044320</td>\n",
       "    </tr>\n",
       "    <tr>\n",
       "      <td>3</td>\n",
       "      <td>0.029800</td>\n",
       "      <td>0.039629</td>\n",
       "    </tr>\n",
       "    <tr>\n",
       "      <td>4</td>\n",
       "      <td>0.021800</td>\n",
       "      <td>0.032527</td>\n",
       "    </tr>\n",
       "    <tr>\n",
       "      <td>5</td>\n",
       "      <td>0.016700</td>\n",
       "      <td>0.025332</td>\n",
       "    </tr>\n",
       "    <tr>\n",
       "      <td>6</td>\n",
       "      <td>0.013100</td>\n",
       "      <td>0.020374</td>\n",
       "    </tr>\n",
       "    <tr>\n",
       "      <td>7</td>\n",
       "      <td>0.011200</td>\n",
       "      <td>0.015250</td>\n",
       "    </tr>\n",
       "    <tr>\n",
       "      <td>8</td>\n",
       "      <td>0.010400</td>\n",
       "      <td>0.011917</td>\n",
       "    </tr>\n",
       "    <tr>\n",
       "      <td>9</td>\n",
       "      <td>0.009900</td>\n",
       "      <td>0.011047</td>\n",
       "    </tr>\n",
       "    <tr>\n",
       "      <td>10</td>\n",
       "      <td>0.009700</td>\n",
       "      <td>0.010080</td>\n",
       "    </tr>\n",
       "    <tr>\n",
       "      <td>11</td>\n",
       "      <td>0.009500</td>\n",
       "      <td>0.012558</td>\n",
       "    </tr>\n",
       "    <tr>\n",
       "      <td>12</td>\n",
       "      <td>0.009400</td>\n",
       "      <td>0.009745</td>\n",
       "    </tr>\n",
       "    <tr>\n",
       "      <td>13</td>\n",
       "      <td>0.009400</td>\n",
       "      <td>0.010391</td>\n",
       "    </tr>\n",
       "    <tr>\n",
       "      <td>14</td>\n",
       "      <td>0.009300</td>\n",
       "      <td>0.009597</td>\n",
       "    </tr>\n",
       "    <tr>\n",
       "      <td>15</td>\n",
       "      <td>0.009200</td>\n",
       "      <td>0.009466</td>\n",
       "    </tr>\n",
       "    <tr>\n",
       "      <td>16</td>\n",
       "      <td>0.009300</td>\n",
       "      <td>0.009517</td>\n",
       "    </tr>\n",
       "    <tr>\n",
       "      <td>17</td>\n",
       "      <td>0.009100</td>\n",
       "      <td>0.009677</td>\n",
       "    </tr>\n",
       "    <tr>\n",
       "      <td>18</td>\n",
       "      <td>0.009100</td>\n",
       "      <td>0.009103</td>\n",
       "    </tr>\n",
       "    <tr>\n",
       "      <td>19</td>\n",
       "      <td>0.009100</td>\n",
       "      <td>0.009820</td>\n",
       "    </tr>\n",
       "    <tr>\n",
       "      <td>20</td>\n",
       "      <td>0.009100</td>\n",
       "      <td>0.009036</td>\n",
       "    </tr>\n",
       "    <tr>\n",
       "      <td>21</td>\n",
       "      <td>0.009100</td>\n",
       "      <td>0.009182</td>\n",
       "    </tr>\n",
       "    <tr>\n",
       "      <td>22</td>\n",
       "      <td>0.009000</td>\n",
       "      <td>0.009577</td>\n",
       "    </tr>\n",
       "    <tr>\n",
       "      <td>23</td>\n",
       "      <td>0.009000</td>\n",
       "      <td>0.009045</td>\n",
       "    </tr>\n",
       "    <tr>\n",
       "      <td>24</td>\n",
       "      <td>0.009000</td>\n",
       "      <td>0.009695</td>\n",
       "    </tr>\n",
       "    <tr>\n",
       "      <td>25</td>\n",
       "      <td>0.008900</td>\n",
       "      <td>0.009351</td>\n",
       "    </tr>\n",
       "    <tr>\n",
       "      <td>26</td>\n",
       "      <td>0.009000</td>\n",
       "      <td>0.009062</td>\n",
       "    </tr>\n",
       "    <tr>\n",
       "      <td>27</td>\n",
       "      <td>0.009000</td>\n",
       "      <td>0.009190</td>\n",
       "    </tr>\n",
       "    <tr>\n",
       "      <td>28</td>\n",
       "      <td>0.008900</td>\n",
       "      <td>0.009115</td>\n",
       "    </tr>\n",
       "    <tr>\n",
       "      <td>29</td>\n",
       "      <td>0.008800</td>\n",
       "      <td>0.009025</td>\n",
       "    </tr>\n",
       "    <tr>\n",
       "      <td>30</td>\n",
       "      <td>0.008900</td>\n",
       "      <td>0.008825</td>\n",
       "    </tr>\n",
       "    <tr>\n",
       "      <td>31</td>\n",
       "      <td>0.008800</td>\n",
       "      <td>0.008887</td>\n",
       "    </tr>\n",
       "    <tr>\n",
       "      <td>32</td>\n",
       "      <td>0.008900</td>\n",
       "      <td>0.008801</td>\n",
       "    </tr>\n",
       "    <tr>\n",
       "      <td>33</td>\n",
       "      <td>0.008900</td>\n",
       "      <td>0.008752</td>\n",
       "    </tr>\n",
       "    <tr>\n",
       "      <td>34</td>\n",
       "      <td>0.008900</td>\n",
       "      <td>0.008861</td>\n",
       "    </tr>\n",
       "    <tr>\n",
       "      <td>35</td>\n",
       "      <td>0.008900</td>\n",
       "      <td>0.008793</td>\n",
       "    </tr>\n",
       "    <tr>\n",
       "      <td>36</td>\n",
       "      <td>0.008800</td>\n",
       "      <td>0.008763</td>\n",
       "    </tr>\n",
       "    <tr>\n",
       "      <td>37</td>\n",
       "      <td>0.008800</td>\n",
       "      <td>0.008789</td>\n",
       "    </tr>\n",
       "    <tr>\n",
       "      <td>38</td>\n",
       "      <td>0.008800</td>\n",
       "      <td>0.008654</td>\n",
       "    </tr>\n",
       "    <tr>\n",
       "      <td>39</td>\n",
       "      <td>0.008800</td>\n",
       "      <td>0.008806</td>\n",
       "    </tr>\n",
       "    <tr>\n",
       "      <td>40</td>\n",
       "      <td>0.008800</td>\n",
       "      <td>0.008972</td>\n",
       "    </tr>\n",
       "    <tr>\n",
       "      <td>41</td>\n",
       "      <td>0.008800</td>\n",
       "      <td>0.008614</td>\n",
       "    </tr>\n",
       "    <tr>\n",
       "      <td>42</td>\n",
       "      <td>0.008700</td>\n",
       "      <td>0.008585</td>\n",
       "    </tr>\n",
       "    <tr>\n",
       "      <td>43</td>\n",
       "      <td>0.008800</td>\n",
       "      <td>0.008739</td>\n",
       "    </tr>\n",
       "    <tr>\n",
       "      <td>44</td>\n",
       "      <td>0.008800</td>\n",
       "      <td>0.008611</td>\n",
       "    </tr>\n",
       "    <tr>\n",
       "      <td>45</td>\n",
       "      <td>0.008800</td>\n",
       "      <td>0.008656</td>\n",
       "    </tr>\n",
       "    <tr>\n",
       "      <td>46</td>\n",
       "      <td>0.008800</td>\n",
       "      <td>0.008579</td>\n",
       "    </tr>\n",
       "    <tr>\n",
       "      <td>47</td>\n",
       "      <td>0.008800</td>\n",
       "      <td>0.008663</td>\n",
       "    </tr>\n",
       "    <tr>\n",
       "      <td>48</td>\n",
       "      <td>0.008800</td>\n",
       "      <td>0.008647</td>\n",
       "    </tr>\n",
       "    <tr>\n",
       "      <td>49</td>\n",
       "      <td>0.008800</td>\n",
       "      <td>0.008636</td>\n",
       "    </tr>\n",
       "    <tr>\n",
       "      <td>50</td>\n",
       "      <td>0.008800</td>\n",
       "      <td>0.008601</td>\n",
       "    </tr>\n",
       "    <tr>\n",
       "      <td>51</td>\n",
       "      <td>0.008800</td>\n",
       "      <td>0.008619</td>\n",
       "    </tr>\n",
       "    <tr>\n",
       "      <td>52</td>\n",
       "      <td>0.008700</td>\n",
       "      <td>0.008604</td>\n",
       "    </tr>\n",
       "    <tr>\n",
       "      <td>53</td>\n",
       "      <td>0.008800</td>\n",
       "      <td>0.008589</td>\n",
       "    </tr>\n",
       "    <tr>\n",
       "      <td>54</td>\n",
       "      <td>0.008800</td>\n",
       "      <td>0.008584</td>\n",
       "    </tr>\n",
       "    <tr>\n",
       "      <td>55</td>\n",
       "      <td>0.008700</td>\n",
       "      <td>0.008565</td>\n",
       "    </tr>\n",
       "    <tr>\n",
       "      <td>56</td>\n",
       "      <td>0.008800</td>\n",
       "      <td>0.008570</td>\n",
       "    </tr>\n",
       "    <tr>\n",
       "      <td>57</td>\n",
       "      <td>0.008800</td>\n",
       "      <td>0.008607</td>\n",
       "    </tr>\n",
       "    <tr>\n",
       "      <td>58</td>\n",
       "      <td>0.008800</td>\n",
       "      <td>0.008578</td>\n",
       "    </tr>\n",
       "    <tr>\n",
       "      <td>59</td>\n",
       "      <td>0.008800</td>\n",
       "      <td>0.008594</td>\n",
       "    </tr>\n",
       "    <tr>\n",
       "      <td>60</td>\n",
       "      <td>0.008800</td>\n",
       "      <td>0.008589</td>\n",
       "    </tr>\n",
       "  </tbody>\n",
       "</table><p>"
      ],
      "text/plain": [
       "<IPython.core.display.HTML object>"
      ]
     },
     "metadata": {},
     "output_type": "display_data"
    },
    {
     "name": "stderr",
     "output_type": "stream",
     "text": [
      "No files have been modified since last commit. Skipping to prevent empty commit.\n"
     ]
    },
    {
     "data": {
      "text/plain": [
       "CommitInfo(commit_url='https://huggingface.co/KanWasTaken/WhartonDS_RegressionModel/commit/df9daf2d817544103ea685e3272105c3b37c09d3', commit_message='KanWasTaken/WhartonDS_RegressionModel', commit_description='', oid='df9daf2d817544103ea685e3272105c3b37c09d3', pr_url=None, repo_url=RepoUrl('https://huggingface.co/KanWasTaken/WhartonDS_RegressionModel', endpoint='https://huggingface.co', repo_type='model', repo_id='KanWasTaken/WhartonDS_RegressionModel'), pr_revision=None, pr_num=None)"
      ]
     },
     "execution_count": 21,
     "metadata": {},
     "output_type": "execute_result"
    }
   ],
   "source": [
    "from transformers import Trainer, TrainingArguments\n",
    "from transformers import get_scheduler\n",
    "import warnings\n",
    "\n",
    "warnings.filterwarnings(\n",
    "    \"ignore\",\n",
    "    message=\"Was asked to gather along dimension 0, but all input tensors were scalars\",\n",
    "    category=UserWarning\n",
    ")\n",
    "\n",
    "training_args = TrainingArguments(\n",
    "    output_dir=\"./WhartonDS_RegressionModel\",\n",
    "    learning_rate = 1e-5,\n",
    "    eval_strategy=\"epoch\",  # Evaluate at each epoch\n",
    "    save_strategy=\"epoch\",\n",
    "    logging_strategy=\"epoch\",  # Log every epoch\n",
    "    logging_dir=\"./logs\",\n",
    "    logging_steps=1,  # Log at every step\n",
    "    per_device_train_batch_size=128,\n",
    "    per_device_eval_batch_size=32,\n",
    "    num_train_epochs=60,\n",
    "    weight_decay=0.0005,\n",
    "    report_to=\"none\",\n",
    "    push_to_hub=True,\n",
    "    optim = 'adamw_torch',\n",
    "    lr_scheduler_type=\"cosine\",\n",
    "    hub_model_id=\"KanWasTaken/WhartonDS_RegressionModel\",\n",
    "    load_best_model_at_end=True,\n",
    "    metric_for_best_model=\"loss\",\n",
    "    greater_is_better=False,\n",
    "    save_total_limit = 1\n",
    ")\n",
    "\n",
    "# Initialize Model\n",
    "model = FeatureGroupingModel(FeatureGroupingConfig())\n",
    "\n",
    "trainer = Trainer(\n",
    "    model=model.to(device),\n",
    "    args=training_args,\n",
    "    train_dataset=train_set,\n",
    "    eval_dataset=val_set\n",
    "    #callbacks=[LossLoggerCallback()]  # Add the callback here\n",
    ")\n",
    "\n",
    "# Train the Model\n",
    "trainer.train()\n",
    "\n",
    "# Save Model\n",
    "trainer.save_model(\"./WhartonDS_RegressionModel\")\n",
    "\n",
    "# Save Model to Hugging Face Hub\n",
    "trainer.push_to_hub(\"KanWasTaken/WhartonDS_RegressionModel\")"
   ]
  },
  {
   "cell_type": "markdown",
   "id": "f3822160",
   "metadata": {
    "papermill": {
     "duration": 0.006074,
     "end_time": "2025-02-16T15:21:52.998151",
     "exception": false,
     "start_time": "2025-02-16T15:21:52.992077",
     "status": "completed"
    },
    "tags": []
   },
   "source": [
    "# **Test**"
   ]
  }
 ],
 "metadata": {
  "kaggle": {
   "accelerator": "nvidiaTeslaT4",
   "dataSources": [
    {
     "datasetId": 6633633,
     "sourceId": 10703903,
     "sourceType": "datasetVersion"
    }
   ],
   "dockerImageVersionId": 30886,
   "isGpuEnabled": true,
   "isInternetEnabled": true,
   "language": "python",
   "sourceType": "notebook"
  },
  "kernelspec": {
   "display_name": "Python 3",
   "language": "python",
   "name": "python3"
  },
  "language_info": {
   "codemirror_mode": {
    "name": "ipython",
    "version": 3
   },
   "file_extension": ".py",
   "mimetype": "text/x-python",
   "name": "python",
   "nbconvert_exporter": "python",
   "pygments_lexer": "ipython3",
   "version": "3.10.12"
  },
  "papermill": {
   "default_parameters": {},
   "duration": 2378.6728,
   "end_time": "2025-02-16T15:21:56.806056",
   "environment_variables": {},
   "exception": null,
   "input_path": "__notebook__.ipynb",
   "output_path": "__notebook__.ipynb",
   "parameters": {},
   "start_time": "2025-02-16T14:42:18.133256",
   "version": "2.6.0"
  },
  "widgets": {
   "application/vnd.jupyter.widget-state+json": {
    "state": {
     "025bfca9669b443a9e8f4b56a93ba2f0": {
      "model_module": "@jupyter-widgets/controls",
      "model_module_version": "2.0.0",
      "model_name": "HTMLModel",
      "state": {
       "_dom_classes": [],
       "_model_module": "@jupyter-widgets/controls",
       "_model_module_version": "2.0.0",
       "_model_name": "HTMLModel",
       "_view_count": null,
       "_view_module": "@jupyter-widgets/controls",
       "_view_module_version": "2.0.0",
       "_view_name": "HTMLView",
       "description": "",
       "description_allow_html": false,
       "layout": "IPY_MODEL_66fe429cd6aa478082b85122789a79a9",
       "placeholder": "​",
       "style": "IPY_MODEL_762ba4f25b32497cad2db0b67803906f",
       "tabbable": null,
       "tooltip": null,
       "value": " 102M/102M [00:00&lt;00:00, 233MB/s]"
      }
     },
     "031c13e9709845c2b603f263ce8b185d": {
      "model_module": "@jupyter-widgets/base",
      "model_module_version": "2.0.0",
      "model_name": "LayoutModel",
      "state": {
       "_model_module": "@jupyter-widgets/base",
       "_model_module_version": "2.0.0",
       "_model_name": "LayoutModel",
       "_view_count": null,
       "_view_module": "@jupyter-widgets/base",
       "_view_module_version": "2.0.0",
       "_view_name": "LayoutView",
       "align_content": null,
       "align_items": null,
       "align_self": null,
       "border_bottom": null,
       "border_left": null,
       "border_right": null,
       "border_top": null,
       "bottom": null,
       "display": null,
       "flex": null,
       "flex_flow": null,
       "grid_area": null,
       "grid_auto_columns": null,
       "grid_auto_flow": null,
       "grid_auto_rows": null,
       "grid_column": null,
       "grid_gap": null,
       "grid_row": null,
       "grid_template_areas": null,
       "grid_template_columns": null,
       "grid_template_rows": null,
       "height": null,
       "justify_content": null,
       "justify_items": null,
       "left": null,
       "margin": null,
       "max_height": null,
       "max_width": null,
       "min_height": null,
       "min_width": null,
       "object_fit": null,
       "object_position": null,
       "order": null,
       "overflow": null,
       "padding": null,
       "right": null,
       "top": null,
       "visibility": null,
       "width": null
      }
     },
     "0f588b33310546f0bad51446ab144c40": {
      "model_module": "@jupyter-widgets/controls",
      "model_module_version": "2.0.0",
      "model_name": "HTMLStyleModel",
      "state": {
       "_model_module": "@jupyter-widgets/controls",
       "_model_module_version": "2.0.0",
       "_model_name": "HTMLStyleModel",
       "_view_count": null,
       "_view_module": "@jupyter-widgets/base",
       "_view_module_version": "2.0.0",
       "_view_name": "StyleView",
       "background": null,
       "description_width": "",
       "font_size": null,
       "text_color": null
      }
     },
     "1ce1eb6d384c4eeeaceb8a0eb783c515": {
      "model_module": "@jupyter-widgets/base",
      "model_module_version": "2.0.0",
      "model_name": "LayoutModel",
      "state": {
       "_model_module": "@jupyter-widgets/base",
       "_model_module_version": "2.0.0",
       "_model_name": "LayoutModel",
       "_view_count": null,
       "_view_module": "@jupyter-widgets/base",
       "_view_module_version": "2.0.0",
       "_view_name": "LayoutView",
       "align_content": null,
       "align_items": null,
       "align_self": null,
       "border_bottom": null,
       "border_left": null,
       "border_right": null,
       "border_top": null,
       "bottom": null,
       "display": null,
       "flex": null,
       "flex_flow": null,
       "grid_area": null,
       "grid_auto_columns": null,
       "grid_auto_flow": null,
       "grid_auto_rows": null,
       "grid_column": null,
       "grid_gap": null,
       "grid_row": null,
       "grid_template_areas": null,
       "grid_template_columns": null,
       "grid_template_rows": null,
       "height": null,
       "justify_content": null,
       "justify_items": null,
       "left": null,
       "margin": null,
       "max_height": null,
       "max_width": null,
       "min_height": null,
       "min_width": null,
       "object_fit": null,
       "object_position": null,
       "order": null,
       "overflow": null,
       "padding": null,
       "right": null,
       "top": null,
       "visibility": null,
       "width": null
      }
     },
     "38edc3feccfa4185b4dc39d4bc5a9b30": {
      "model_module": "@jupyter-widgets/controls",
      "model_module_version": "2.0.0",
      "model_name": "FloatProgressModel",
      "state": {
       "_dom_classes": [],
       "_model_module": "@jupyter-widgets/controls",
       "_model_module_version": "2.0.0",
       "_model_name": "FloatProgressModel",
       "_view_count": null,
       "_view_module": "@jupyter-widgets/controls",
       "_view_module_version": "2.0.0",
       "_view_name": "ProgressView",
       "bar_style": "success",
       "description": "",
       "description_allow_html": false,
       "layout": "IPY_MODEL_ade1a630804f4121a70f7ba69d9e5c03",
       "max": 1.0,
       "min": 0.0,
       "orientation": "horizontal",
       "style": "IPY_MODEL_d802e1715f9e4c67951524bd3e95f01a",
       "tabbable": null,
       "tooltip": null,
       "value": 0.0
      }
     },
     "5199772aeaa34574afd1c59bfcf5363d": {
      "model_module": "@jupyter-widgets/controls",
      "model_module_version": "2.0.0",
      "model_name": "ProgressStyleModel",
      "state": {
       "_model_module": "@jupyter-widgets/controls",
       "_model_module_version": "2.0.0",
       "_model_name": "ProgressStyleModel",
       "_view_count": null,
       "_view_module": "@jupyter-widgets/base",
       "_view_module_version": "2.0.0",
       "_view_name": "StyleView",
       "bar_color": null,
       "description_width": ""
      }
     },
     "54a79000df9a445dbae06d73f082dbec": {
      "model_module": "@jupyter-widgets/controls",
      "model_module_version": "2.0.0",
      "model_name": "HTMLModel",
      "state": {
       "_dom_classes": [],
       "_model_module": "@jupyter-widgets/controls",
       "_model_module_version": "2.0.0",
       "_model_name": "HTMLModel",
       "_view_count": null,
       "_view_module": "@jupyter-widgets/controls",
       "_view_module_version": "2.0.0",
       "_view_name": "HTMLView",
       "description": "",
       "description_allow_html": false,
       "layout": "IPY_MODEL_5d60d350e3af44419673e547f97e6d43",
       "placeholder": "​",
       "style": "IPY_MODEL_b7ad1fe927ef417d9e4efc32ad27e09b",
       "tabbable": null,
       "tooltip": null,
       "value": ""
      }
     },
     "5d60d350e3af44419673e547f97e6d43": {
      "model_module": "@jupyter-widgets/base",
      "model_module_version": "2.0.0",
      "model_name": "LayoutModel",
      "state": {
       "_model_module": "@jupyter-widgets/base",
       "_model_module_version": "2.0.0",
       "_model_name": "LayoutModel",
       "_view_count": null,
       "_view_module": "@jupyter-widgets/base",
       "_view_module_version": "2.0.0",
       "_view_name": "LayoutView",
       "align_content": null,
       "align_items": null,
       "align_self": null,
       "border_bottom": null,
       "border_left": null,
       "border_right": null,
       "border_top": null,
       "bottom": null,
       "display": null,
       "flex": null,
       "flex_flow": null,
       "grid_area": null,
       "grid_auto_columns": null,
       "grid_auto_flow": null,
       "grid_auto_rows": null,
       "grid_column": null,
       "grid_gap": null,
       "grid_row": null,
       "grid_template_areas": null,
       "grid_template_columns": null,
       "grid_template_rows": null,
       "height": null,
       "justify_content": null,
       "justify_items": null,
       "left": null,
       "margin": null,
       "max_height": null,
       "max_width": null,
       "min_height": null,
       "min_width": null,
       "object_fit": null,
       "object_position": null,
       "order": null,
       "overflow": null,
       "padding": null,
       "right": null,
       "top": null,
       "visibility": null,
       "width": null
      }
     },
     "60389986befb481092c80d98f8bbb728": {
      "model_module": "@jupyter-widgets/controls",
      "model_module_version": "2.0.0",
      "model_name": "HBoxModel",
      "state": {
       "_dom_classes": [],
       "_model_module": "@jupyter-widgets/controls",
       "_model_module_version": "2.0.0",
       "_model_name": "HBoxModel",
       "_view_count": null,
       "_view_module": "@jupyter-widgets/controls",
       "_view_module_version": "2.0.0",
       "_view_name": "HBoxView",
       "box_style": "",
       "children": [
        "IPY_MODEL_ec8c24838fc24ee18222b00f6a2b5c2f",
        "IPY_MODEL_62b9c7efb8e74469824fa380bd4d4063",
        "IPY_MODEL_025bfca9669b443a9e8f4b56a93ba2f0"
       ],
       "layout": "IPY_MODEL_fb9fd9a9cace449aa294892a38fa2b73",
       "tabbable": null,
       "tooltip": null
      }
     },
     "62b9c7efb8e74469824fa380bd4d4063": {
      "model_module": "@jupyter-widgets/controls",
      "model_module_version": "2.0.0",
      "model_name": "FloatProgressModel",
      "state": {
       "_dom_classes": [],
       "_model_module": "@jupyter-widgets/controls",
       "_model_module_version": "2.0.0",
       "_model_name": "FloatProgressModel",
       "_view_count": null,
       "_view_module": "@jupyter-widgets/controls",
       "_view_module_version": "2.0.0",
       "_view_name": "ProgressView",
       "bar_style": "success",
       "description": "",
       "description_allow_html": false,
       "layout": "IPY_MODEL_031c13e9709845c2b603f263ce8b185d",
       "max": 102469840.0,
       "min": 0.0,
       "orientation": "horizontal",
       "style": "IPY_MODEL_5199772aeaa34574afd1c59bfcf5363d",
       "tabbable": null,
       "tooltip": null,
       "value": 102469840.0
      }
     },
     "63522109ecd44f22ae1c1ed7289f2e89": {
      "model_module": "@jupyter-widgets/controls",
      "model_module_version": "2.0.0",
      "model_name": "HBoxModel",
      "state": {
       "_dom_classes": [],
       "_model_module": "@jupyter-widgets/controls",
       "_model_module_version": "2.0.0",
       "_model_name": "HBoxModel",
       "_view_count": null,
       "_view_module": "@jupyter-widgets/controls",
       "_view_module_version": "2.0.0",
       "_view_name": "HBoxView",
       "box_style": "",
       "children": [
        "IPY_MODEL_54a79000df9a445dbae06d73f082dbec",
        "IPY_MODEL_38edc3feccfa4185b4dc39d4bc5a9b30",
        "IPY_MODEL_a98e1c8471a24d4a84a24af1172b3c40"
       ],
       "layout": "IPY_MODEL_b5c3a4af800b4294b097310cc9085fdb",
       "tabbable": null,
       "tooltip": null
      }
     },
     "66fe429cd6aa478082b85122789a79a9": {
      "model_module": "@jupyter-widgets/base",
      "model_module_version": "2.0.0",
      "model_name": "LayoutModel",
      "state": {
       "_model_module": "@jupyter-widgets/base",
       "_model_module_version": "2.0.0",
       "_model_name": "LayoutModel",
       "_view_count": null,
       "_view_module": "@jupyter-widgets/base",
       "_view_module_version": "2.0.0",
       "_view_name": "LayoutView",
       "align_content": null,
       "align_items": null,
       "align_self": null,
       "border_bottom": null,
       "border_left": null,
       "border_right": null,
       "border_top": null,
       "bottom": null,
       "display": null,
       "flex": null,
       "flex_flow": null,
       "grid_area": null,
       "grid_auto_columns": null,
       "grid_auto_flow": null,
       "grid_auto_rows": null,
       "grid_column": null,
       "grid_gap": null,
       "grid_row": null,
       "grid_template_areas": null,
       "grid_template_columns": null,
       "grid_template_rows": null,
       "height": null,
       "justify_content": null,
       "justify_items": null,
       "left": null,
       "margin": null,
       "max_height": null,
       "max_width": null,
       "min_height": null,
       "min_width": null,
       "object_fit": null,
       "object_position": null,
       "order": null,
       "overflow": null,
       "padding": null,
       "right": null,
       "top": null,
       "visibility": null,
       "width": null
      }
     },
     "762ba4f25b32497cad2db0b67803906f": {
      "model_module": "@jupyter-widgets/controls",
      "model_module_version": "2.0.0",
      "model_name": "HTMLStyleModel",
      "state": {
       "_model_module": "@jupyter-widgets/controls",
       "_model_module_version": "2.0.0",
       "_model_name": "HTMLStyleModel",
       "_view_count": null,
       "_view_module": "@jupyter-widgets/base",
       "_view_module_version": "2.0.0",
       "_view_name": "StyleView",
       "background": null,
       "description_width": "",
       "font_size": null,
       "text_color": null
      }
     },
     "959fb70f802d4f09a6c1c6925ae0e25a": {
      "model_module": "@jupyter-widgets/controls",
      "model_module_version": "2.0.0",
      "model_name": "HTMLStyleModel",
      "state": {
       "_model_module": "@jupyter-widgets/controls",
       "_model_module_version": "2.0.0",
       "_model_name": "HTMLStyleModel",
       "_view_count": null,
       "_view_module": "@jupyter-widgets/base",
       "_view_module_version": "2.0.0",
       "_view_name": "StyleView",
       "background": null,
       "description_width": "",
       "font_size": null,
       "text_color": null
      }
     },
     "a98e1c8471a24d4a84a24af1172b3c40": {
      "model_module": "@jupyter-widgets/controls",
      "model_module_version": "2.0.0",
      "model_name": "HTMLModel",
      "state": {
       "_dom_classes": [],
       "_model_module": "@jupyter-widgets/controls",
       "_model_module_version": "2.0.0",
       "_model_name": "HTMLModel",
       "_view_count": null,
       "_view_module": "@jupyter-widgets/controls",
       "_view_module_version": "2.0.0",
       "_view_name": "HTMLView",
       "description": "",
       "description_allow_html": false,
       "layout": "IPY_MODEL_1ce1eb6d384c4eeeaceb8a0eb783c515",
       "placeholder": "​",
       "style": "IPY_MODEL_0f588b33310546f0bad51446ab144c40",
       "tabbable": null,
       "tooltip": null,
       "value": " 0/0 [00:00&lt;?, ?it/s]"
      }
     },
     "ade1a630804f4121a70f7ba69d9e5c03": {
      "model_module": "@jupyter-widgets/base",
      "model_module_version": "2.0.0",
      "model_name": "LayoutModel",
      "state": {
       "_model_module": "@jupyter-widgets/base",
       "_model_module_version": "2.0.0",
       "_model_name": "LayoutModel",
       "_view_count": null,
       "_view_module": "@jupyter-widgets/base",
       "_view_module_version": "2.0.0",
       "_view_name": "LayoutView",
       "align_content": null,
       "align_items": null,
       "align_self": null,
       "border_bottom": null,
       "border_left": null,
       "border_right": null,
       "border_top": null,
       "bottom": null,
       "display": null,
       "flex": null,
       "flex_flow": null,
       "grid_area": null,
       "grid_auto_columns": null,
       "grid_auto_flow": null,
       "grid_auto_rows": null,
       "grid_column": null,
       "grid_gap": null,
       "grid_row": null,
       "grid_template_areas": null,
       "grid_template_columns": null,
       "grid_template_rows": null,
       "height": null,
       "justify_content": null,
       "justify_items": null,
       "left": null,
       "margin": null,
       "max_height": null,
       "max_width": null,
       "min_height": null,
       "min_width": null,
       "object_fit": null,
       "object_position": null,
       "order": null,
       "overflow": null,
       "padding": null,
       "right": null,
       "top": null,
       "visibility": null,
       "width": "20px"
      }
     },
     "b5c3a4af800b4294b097310cc9085fdb": {
      "model_module": "@jupyter-widgets/base",
      "model_module_version": "2.0.0",
      "model_name": "LayoutModel",
      "state": {
       "_model_module": "@jupyter-widgets/base",
       "_model_module_version": "2.0.0",
       "_model_name": "LayoutModel",
       "_view_count": null,
       "_view_module": "@jupyter-widgets/base",
       "_view_module_version": "2.0.0",
       "_view_name": "LayoutView",
       "align_content": null,
       "align_items": null,
       "align_self": null,
       "border_bottom": null,
       "border_left": null,
       "border_right": null,
       "border_top": null,
       "bottom": null,
       "display": null,
       "flex": null,
       "flex_flow": null,
       "grid_area": null,
       "grid_auto_columns": null,
       "grid_auto_flow": null,
       "grid_auto_rows": null,
       "grid_column": null,
       "grid_gap": null,
       "grid_row": null,
       "grid_template_areas": null,
       "grid_template_columns": null,
       "grid_template_rows": null,
       "height": null,
       "justify_content": null,
       "justify_items": null,
       "left": null,
       "margin": null,
       "max_height": null,
       "max_width": null,
       "min_height": null,
       "min_width": null,
       "object_fit": null,
       "object_position": null,
       "order": null,
       "overflow": null,
       "padding": null,
       "right": null,
       "top": null,
       "visibility": null,
       "width": null
      }
     },
     "b7ad1fe927ef417d9e4efc32ad27e09b": {
      "model_module": "@jupyter-widgets/controls",
      "model_module_version": "2.0.0",
      "model_name": "HTMLStyleModel",
      "state": {
       "_model_module": "@jupyter-widgets/controls",
       "_model_module_version": "2.0.0",
       "_model_name": "HTMLStyleModel",
       "_view_count": null,
       "_view_module": "@jupyter-widgets/base",
       "_view_module_version": "2.0.0",
       "_view_name": "StyleView",
       "background": null,
       "description_width": "",
       "font_size": null,
       "text_color": null
      }
     },
     "cfedd18884dd4c2494818bc858a516e1": {
      "model_module": "@jupyter-widgets/base",
      "model_module_version": "2.0.0",
      "model_name": "LayoutModel",
      "state": {
       "_model_module": "@jupyter-widgets/base",
       "_model_module_version": "2.0.0",
       "_model_name": "LayoutModel",
       "_view_count": null,
       "_view_module": "@jupyter-widgets/base",
       "_view_module_version": "2.0.0",
       "_view_name": "LayoutView",
       "align_content": null,
       "align_items": null,
       "align_self": null,
       "border_bottom": null,
       "border_left": null,
       "border_right": null,
       "border_top": null,
       "bottom": null,
       "display": null,
       "flex": null,
       "flex_flow": null,
       "grid_area": null,
       "grid_auto_columns": null,
       "grid_auto_flow": null,
       "grid_auto_rows": null,
       "grid_column": null,
       "grid_gap": null,
       "grid_row": null,
       "grid_template_areas": null,
       "grid_template_columns": null,
       "grid_template_rows": null,
       "height": null,
       "justify_content": null,
       "justify_items": null,
       "left": null,
       "margin": null,
       "max_height": null,
       "max_width": null,
       "min_height": null,
       "min_width": null,
       "object_fit": null,
       "object_position": null,
       "order": null,
       "overflow": null,
       "padding": null,
       "right": null,
       "top": null,
       "visibility": null,
       "width": null
      }
     },
     "d802e1715f9e4c67951524bd3e95f01a": {
      "model_module": "@jupyter-widgets/controls",
      "model_module_version": "2.0.0",
      "model_name": "ProgressStyleModel",
      "state": {
       "_model_module": "@jupyter-widgets/controls",
       "_model_module_version": "2.0.0",
       "_model_name": "ProgressStyleModel",
       "_view_count": null,
       "_view_module": "@jupyter-widgets/base",
       "_view_module_version": "2.0.0",
       "_view_name": "StyleView",
       "bar_color": null,
       "description_width": ""
      }
     },
     "ec8c24838fc24ee18222b00f6a2b5c2f": {
      "model_module": "@jupyter-widgets/controls",
      "model_module_version": "2.0.0",
      "model_name": "HTMLModel",
      "state": {
       "_dom_classes": [],
       "_model_module": "@jupyter-widgets/controls",
       "_model_module_version": "2.0.0",
       "_model_name": "HTMLModel",
       "_view_count": null,
       "_view_module": "@jupyter-widgets/controls",
       "_view_module_version": "2.0.0",
       "_view_name": "HTMLView",
       "description": "",
       "description_allow_html": false,
       "layout": "IPY_MODEL_cfedd18884dd4c2494818bc858a516e1",
       "placeholder": "​",
       "style": "IPY_MODEL_959fb70f802d4f09a6c1c6925ae0e25a",
       "tabbable": null,
       "tooltip": null,
       "value": "model.safetensors: 100%"
      }
     },
     "fb9fd9a9cace449aa294892a38fa2b73": {
      "model_module": "@jupyter-widgets/base",
      "model_module_version": "2.0.0",
      "model_name": "LayoutModel",
      "state": {
       "_model_module": "@jupyter-widgets/base",
       "_model_module_version": "2.0.0",
       "_model_name": "LayoutModel",
       "_view_count": null,
       "_view_module": "@jupyter-widgets/base",
       "_view_module_version": "2.0.0",
       "_view_name": "LayoutView",
       "align_content": null,
       "align_items": null,
       "align_self": null,
       "border_bottom": null,
       "border_left": null,
       "border_right": null,
       "border_top": null,
       "bottom": null,
       "display": null,
       "flex": null,
       "flex_flow": null,
       "grid_area": null,
       "grid_auto_columns": null,
       "grid_auto_flow": null,
       "grid_auto_rows": null,
       "grid_column": null,
       "grid_gap": null,
       "grid_row": null,
       "grid_template_areas": null,
       "grid_template_columns": null,
       "grid_template_rows": null,
       "height": null,
       "justify_content": null,
       "justify_items": null,
       "left": null,
       "margin": null,
       "max_height": null,
       "max_width": null,
       "min_height": null,
       "min_width": null,
       "object_fit": null,
       "object_position": null,
       "order": null,
       "overflow": null,
       "padding": null,
       "right": null,
       "top": null,
       "visibility": null,
       "width": null
      }
     }
    },
    "version_major": 2,
    "version_minor": 0
   }
  }
 },
 "nbformat": 4,
 "nbformat_minor": 5
}
